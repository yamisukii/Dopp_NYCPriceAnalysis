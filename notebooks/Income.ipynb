{
 "cells": [
  {
   "cell_type": "code",
   "execution_count": 389,
   "metadata": {},
   "outputs": [],
   "source": [
    "import numpy as np\n",
    "import pandas as pd\n",
    "import glob\n",
    "import os\n",
    "import matplotlib.pyplot as plt\n",
    "import seaborn as sns\n",
    "import datetime\n",
    "import pickle\n",
    "import typing"
   ]
  },
  {
   "cell_type": "code",
   "execution_count": 390,
   "metadata": {},
   "outputs": [
    {
     "data": {
      "text/html": [
       "<div>\n",
       "<style scoped>\n",
       "    .dataframe tbody tr th:only-of-type {\n",
       "        vertical-align: middle;\n",
       "    }\n",
       "\n",
       "    .dataframe tbody tr th {\n",
       "        vertical-align: top;\n",
       "    }\n",
       "\n",
       "    .dataframe thead th {\n",
       "        text-align: right;\n",
       "    }\n",
       "</style>\n",
       "<table border=\"1\" class=\"dataframe\">\n",
       "  <thead>\n",
       "    <tr style=\"text-align: right;\">\n",
       "      <th></th>\n",
       "      <th>Location</th>\n",
       "      <th>Household Type</th>\n",
       "      <th>TimeFrame</th>\n",
       "      <th>DataFormat</th>\n",
       "      <th>Data</th>\n",
       "      <th>Fips</th>\n",
       "    </tr>\n",
       "  </thead>\n",
       "  <tbody>\n",
       "    <tr>\n",
       "      <th>0</th>\n",
       "      <td>Riverdale</td>\n",
       "      <td>All Households</td>\n",
       "      <td>2005</td>\n",
       "      <td>Dollars</td>\n",
       "      <td>66429.87643</td>\n",
       "      <td>208</td>\n",
       "    </tr>\n",
       "    <tr>\n",
       "      <th>1</th>\n",
       "      <td>Williamsbridge</td>\n",
       "      <td>All Households</td>\n",
       "      <td>2005</td>\n",
       "      <td>Dollars</td>\n",
       "      <td>54603.07992</td>\n",
       "      <td>212</td>\n",
       "    </tr>\n",
       "    <tr>\n",
       "      <th>2</th>\n",
       "      <td>Throgs Neck</td>\n",
       "      <td>All Households</td>\n",
       "      <td>2005</td>\n",
       "      <td>Dollars</td>\n",
       "      <td>60436.77167</td>\n",
       "      <td>210</td>\n",
       "    </tr>\n",
       "    <tr>\n",
       "      <th>3</th>\n",
       "      <td>Pelham Parkway</td>\n",
       "      <td>All Households</td>\n",
       "      <td>2005</td>\n",
       "      <td>Dollars</td>\n",
       "      <td>55273.71398</td>\n",
       "      <td>211</td>\n",
       "    </tr>\n",
       "    <tr>\n",
       "      <th>4</th>\n",
       "      <td>Morrisania</td>\n",
       "      <td>All Households</td>\n",
       "      <td>2005</td>\n",
       "      <td>Dollars</td>\n",
       "      <td>25750.6987</td>\n",
       "      <td>203</td>\n",
       "    </tr>\n",
       "  </tbody>\n",
       "</table>\n",
       "</div>"
      ],
      "text/plain": [
       "         Location  Household Type  TimeFrame DataFormat         Data  Fips\n",
       "0       Riverdale  All Households       2005    Dollars  66429.87643   208\n",
       "1  Williamsbridge  All Households       2005    Dollars  54603.07992   212\n",
       "2     Throgs Neck  All Households       2005    Dollars  60436.77167   210\n",
       "3  Pelham Parkway  All Households       2005    Dollars  55273.71398   211\n",
       "4      Morrisania  All Households       2005    Dollars   25750.6987   203"
      ]
     },
     "execution_count": 390,
     "metadata": {},
     "output_type": "execute_result"
    }
   ],
   "source": [
    "data = pd.read_csv('../data/Median_Incomes.csv')\n",
    "data.head()\n"
   ]
  },
  {
   "cell_type": "code",
   "execution_count": 391,
   "metadata": {},
   "outputs": [
    {
     "data": {
      "text/plain": [
       "array(['All Households', 'Families', 'Families with Children',\n",
       "       'Families without Children'], dtype=object)"
      ]
     },
     "execution_count": 391,
     "metadata": {},
     "output_type": "execute_result"
    }
   ],
   "source": [
    "data['Household Type'].unique()"
   ]
  },
  {
   "cell_type": "code",
   "execution_count": 392,
   "metadata": {},
   "outputs": [
    {
     "name": "stdout",
     "output_type": "stream",
     "text": [
      "(4160, 6)\n"
     ]
    }
   ],
   "source": [
    "print(data.shape)"
   ]
  },
  {
   "cell_type": "code",
   "execution_count": 393,
   "metadata": {},
   "outputs": [
    {
     "data": {
      "text/plain": [
       "(4160, 6)"
      ]
     },
     "execution_count": 393,
     "metadata": {},
     "output_type": "execute_result"
    }
   ],
   "source": [
    "data = data.dropna().copy()\n",
    "data.shape"
   ]
  },
  {
   "cell_type": "code",
   "execution_count": 394,
   "metadata": {},
   "outputs": [
    {
     "data": {
      "text/plain": [
       "array(['Dollars'], dtype=object)"
      ]
     },
     "execution_count": 394,
     "metadata": {},
     "output_type": "execute_result"
    }
   ],
   "source": [
    "data['DataFormat'].unique()"
   ]
  },
  {
   "cell_type": "code",
   "execution_count": 395,
   "metadata": {},
   "outputs": [
    {
     "data": {
      "text/html": [
       "<div>\n",
       "<style scoped>\n",
       "    .dataframe tbody tr th:only-of-type {\n",
       "        vertical-align: middle;\n",
       "    }\n",
       "\n",
       "    .dataframe tbody tr th {\n",
       "        vertical-align: top;\n",
       "    }\n",
       "\n",
       "    .dataframe thead th {\n",
       "        text-align: right;\n",
       "    }\n",
       "</style>\n",
       "<table border=\"1\" class=\"dataframe\">\n",
       "  <thead>\n",
       "    <tr style=\"text-align: right;\">\n",
       "      <th></th>\n",
       "      <th>Household Type</th>\n",
       "      <th>Location</th>\n",
       "      <th>Data</th>\n",
       "      <th>TimeFrame</th>\n",
       "    </tr>\n",
       "  </thead>\n",
       "  <tbody>\n",
       "    <tr>\n",
       "      <th>0</th>\n",
       "      <td>All Households</td>\n",
       "      <td>Riverdale</td>\n",
       "      <td>66430</td>\n",
       "      <td>2005</td>\n",
       "    </tr>\n",
       "    <tr>\n",
       "      <th>1</th>\n",
       "      <td>All Households</td>\n",
       "      <td>Williamsbridge</td>\n",
       "      <td>54604</td>\n",
       "      <td>2005</td>\n",
       "    </tr>\n",
       "    <tr>\n",
       "      <th>2</th>\n",
       "      <td>All Households</td>\n",
       "      <td>Throgs Neck</td>\n",
       "      <td>60437</td>\n",
       "      <td>2005</td>\n",
       "    </tr>\n",
       "    <tr>\n",
       "      <th>3</th>\n",
       "      <td>All Households</td>\n",
       "      <td>Pelham Parkway</td>\n",
       "      <td>55274</td>\n",
       "      <td>2005</td>\n",
       "    </tr>\n",
       "    <tr>\n",
       "      <th>4</th>\n",
       "      <td>All Households</td>\n",
       "      <td>Morrisania</td>\n",
       "      <td>25751</td>\n",
       "      <td>2005</td>\n",
       "    </tr>\n",
       "  </tbody>\n",
       "</table>\n",
       "</div>"
      ],
      "text/plain": [
       "   Household Type        Location   Data  TimeFrame\n",
       "0  All Households       Riverdale  66430       2005\n",
       "1  All Households  Williamsbridge  54604       2005\n",
       "2  All Households     Throgs Neck  60437       2005\n",
       "3  All Households  Pelham Parkway  55274       2005\n",
       "4  All Households      Morrisania  25751       2005"
      ]
     },
     "execution_count": 395,
     "metadata": {},
     "output_type": "execute_result"
    }
   ],
   "source": [
    "df = data[['Household Type', 'Location', 'Data', 'TimeFrame']].copy()\n",
    "df[['Household Type','Location']].astype('string')\n",
    "df['Data'] = df['Data'].str.strip()\n",
    "df['Data'] = pd.to_numeric(df['Data'], errors='coerce') \n",
    "df['Data'] = np.ceil(df['Data'])\n",
    "df['Data'] = df['Data'].fillna(0).astype(int)\n",
    "df.head()"
   ]
  },
  {
   "cell_type": "code",
   "execution_count": 396,
   "metadata": {},
   "outputs": [
    {
     "data": {
      "text/html": [
       "<div>\n",
       "<style scoped>\n",
       "    .dataframe tbody tr th:only-of-type {\n",
       "        vertical-align: middle;\n",
       "    }\n",
       "\n",
       "    .dataframe tbody tr th {\n",
       "        vertical-align: top;\n",
       "    }\n",
       "\n",
       "    .dataframe thead th {\n",
       "        text-align: right;\n",
       "    }\n",
       "</style>\n",
       "<table border=\"1\" class=\"dataframe\">\n",
       "  <thead>\n",
       "    <tr style=\"text-align: right;\">\n",
       "      <th></th>\n",
       "      <th>Household Type</th>\n",
       "      <th>Location</th>\n",
       "      <th>Yearly_income</th>\n",
       "      <th>Date</th>\n",
       "    </tr>\n",
       "  </thead>\n",
       "  <tbody>\n",
       "    <tr>\n",
       "      <th>0</th>\n",
       "      <td>All Households</td>\n",
       "      <td>Riverdale</td>\n",
       "      <td>66430</td>\n",
       "      <td>2005</td>\n",
       "    </tr>\n",
       "    <tr>\n",
       "      <th>1</th>\n",
       "      <td>All Households</td>\n",
       "      <td>Williamsbridge</td>\n",
       "      <td>54604</td>\n",
       "      <td>2005</td>\n",
       "    </tr>\n",
       "    <tr>\n",
       "      <th>2</th>\n",
       "      <td>All Households</td>\n",
       "      <td>Throgs Neck</td>\n",
       "      <td>60437</td>\n",
       "      <td>2005</td>\n",
       "    </tr>\n",
       "    <tr>\n",
       "      <th>3</th>\n",
       "      <td>All Households</td>\n",
       "      <td>Pelham Parkway</td>\n",
       "      <td>55274</td>\n",
       "      <td>2005</td>\n",
       "    </tr>\n",
       "    <tr>\n",
       "      <th>4</th>\n",
       "      <td>All Households</td>\n",
       "      <td>Morrisania</td>\n",
       "      <td>25751</td>\n",
       "      <td>2005</td>\n",
       "    </tr>\n",
       "  </tbody>\n",
       "</table>\n",
       "</div>"
      ],
      "text/plain": [
       "   Household Type        Location  Yearly_income  Date\n",
       "0  All Households       Riverdale          66430  2005\n",
       "1  All Households  Williamsbridge          54604  2005\n",
       "2  All Households     Throgs Neck          60437  2005\n",
       "3  All Households  Pelham Parkway          55274  2005\n",
       "4  All Households      Morrisania          25751  2005"
      ]
     },
     "execution_count": 396,
     "metadata": {},
     "output_type": "execute_result"
    }
   ],
   "source": [
    "df.rename(columns={\"Data\": \"Yearly_income\", \"TimeFrame\": \"Date\"}, inplace=True)\n",
    "df.head()"
   ]
  },
  {
   "cell_type": "code",
   "execution_count": 397,
   "metadata": {},
   "outputs": [
    {
     "data": {
      "text/plain": [
       "array([2005, 2006, 2007, 2008, 2009, 2010, 2011, 2012, 2013, 2014, 2015,\n",
       "       2016, 2017, 2018, 2019, 2021], dtype=int64)"
      ]
     },
     "execution_count": 397,
     "metadata": {},
     "output_type": "execute_result"
    }
   ],
   "source": [
    "df['Date'].unique()"
   ]
  },
  {
   "cell_type": "code",
   "execution_count": 398,
   "metadata": {},
   "outputs": [
    {
     "data": {
      "text/html": [
       "<div>\n",
       "<style scoped>\n",
       "    .dataframe tbody tr th:only-of-type {\n",
       "        vertical-align: middle;\n",
       "    }\n",
       "\n",
       "    .dataframe tbody tr th {\n",
       "        vertical-align: top;\n",
       "    }\n",
       "\n",
       "    .dataframe thead th {\n",
       "        text-align: right;\n",
       "    }\n",
       "</style>\n",
       "<table border=\"1\" class=\"dataframe\">\n",
       "  <thead>\n",
       "    <tr style=\"text-align: right;\">\n",
       "      <th></th>\n",
       "      <th>Household Type</th>\n",
       "      <th>Location</th>\n",
       "      <th>Yearly_income</th>\n",
       "      <th>Date</th>\n",
       "      <th>Avg_Yearly_Income_Above_2012</th>\n",
       "    </tr>\n",
       "  </thead>\n",
       "  <tbody>\n",
       "    <tr>\n",
       "      <th>0</th>\n",
       "      <td>All Households</td>\n",
       "      <td>Riverdale</td>\n",
       "      <td>66430</td>\n",
       "      <td>2005</td>\n",
       "      <td>63444.125</td>\n",
       "    </tr>\n",
       "    <tr>\n",
       "      <th>1</th>\n",
       "      <td>All Households</td>\n",
       "      <td>Williamsbridge</td>\n",
       "      <td>54604</td>\n",
       "      <td>2005</td>\n",
       "      <td>57027.125</td>\n",
       "    </tr>\n",
       "    <tr>\n",
       "      <th>2</th>\n",
       "      <td>All Households</td>\n",
       "      <td>Throgs Neck</td>\n",
       "      <td>60437</td>\n",
       "      <td>2005</td>\n",
       "      <td>61644.875</td>\n",
       "    </tr>\n",
       "    <tr>\n",
       "      <th>3</th>\n",
       "      <td>All Households</td>\n",
       "      <td>Pelham Parkway</td>\n",
       "      <td>55274</td>\n",
       "      <td>2005</td>\n",
       "      <td>54912.375</td>\n",
       "    </tr>\n",
       "    <tr>\n",
       "      <th>4</th>\n",
       "      <td>All Households</td>\n",
       "      <td>Morrisania</td>\n",
       "      <td>25751</td>\n",
       "      <td>2005</td>\n",
       "      <td>25512.625</td>\n",
       "    </tr>\n",
       "  </tbody>\n",
       "</table>\n",
       "</div>"
      ],
      "text/plain": [
       "   Household Type        Location  Yearly_income  Date  \\\n",
       "0  All Households       Riverdale          66430  2005   \n",
       "1  All Households  Williamsbridge          54604  2005   \n",
       "2  All Households     Throgs Neck          60437  2005   \n",
       "3  All Households  Pelham Parkway          55274  2005   \n",
       "4  All Households      Morrisania          25751  2005   \n",
       "\n",
       "   Avg_Yearly_Income_Above_2012  \n",
       "0                     63444.125  \n",
       "1                     57027.125  \n",
       "2                     61644.875  \n",
       "3                     54912.375  \n",
       "4                     25512.625  "
      ]
     },
     "execution_count": 398,
     "metadata": {},
     "output_type": "execute_result"
    }
   ],
   "source": [
    "filtered_df = df[df['Date'] > 2012]\n",
    "\n",
    "# Calculate the average income for each combination of Household Type and Location\n",
    "average_income_by_group = (\n",
    "    filtered_df.groupby(['Household Type', 'Location'])['Yearly_income']\n",
    "    .mean()\n",
    "    .reset_index()\n",
    "    .rename(columns={'Yearly_income': 'Avg_Yearly_Income_Above_2012'})\n",
    ")\n",
    "\n",
    "# Merge the calculated averages back to the original DataFrame\n",
    "df = df.merge(average_income_by_group, on=['Household Type', 'Location'], how='left')\n",
    "\n",
    "# Display the updated DataFrame\n",
    "df.head()"
   ]
  },
  {
   "cell_type": "code",
   "execution_count": 399,
   "metadata": {},
   "outputs": [
    {
     "data": {
      "text/plain": [
       "(4160, 5)"
      ]
     },
     "execution_count": 399,
     "metadata": {},
     "output_type": "execute_result"
    }
   ],
   "source": [
    "df.shape"
   ]
  },
  {
   "cell_type": "code",
   "execution_count": 400,
   "metadata": {},
   "outputs": [
    {
     "data": {
      "text/html": [
       "<div>\n",
       "<style scoped>\n",
       "    .dataframe tbody tr th:only-of-type {\n",
       "        vertical-align: middle;\n",
       "    }\n",
       "\n",
       "    .dataframe tbody tr th {\n",
       "        vertical-align: top;\n",
       "    }\n",
       "\n",
       "    .dataframe thead th {\n",
       "        text-align: right;\n",
       "    }\n",
       "</style>\n",
       "<table border=\"1\" class=\"dataframe\">\n",
       "  <thead>\n",
       "    <tr style=\"text-align: right;\">\n",
       "      <th></th>\n",
       "      <th>Location</th>\n",
       "      <th>Avg_Yearly_Income_Above_2012</th>\n",
       "    </tr>\n",
       "  </thead>\n",
       "  <tbody>\n",
       "    <tr>\n",
       "      <th>0</th>\n",
       "      <td>Riverdale</td>\n",
       "      <td>63444.125</td>\n",
       "    </tr>\n",
       "    <tr>\n",
       "      <th>1</th>\n",
       "      <td>Williamsbridge</td>\n",
       "      <td>57027.125</td>\n",
       "    </tr>\n",
       "    <tr>\n",
       "      <th>2</th>\n",
       "      <td>Throgs Neck</td>\n",
       "      <td>61644.875</td>\n",
       "    </tr>\n",
       "    <tr>\n",
       "      <th>3</th>\n",
       "      <td>Pelham Parkway</td>\n",
       "      <td>54912.375</td>\n",
       "    </tr>\n",
       "    <tr>\n",
       "      <th>4</th>\n",
       "      <td>Morrisania</td>\n",
       "      <td>25512.625</td>\n",
       "    </tr>\n",
       "  </tbody>\n",
       "</table>\n",
       "</div>"
      ],
      "text/plain": [
       "         Location  Avg_Yearly_Income_Above_2012\n",
       "0       Riverdale                     63444.125\n",
       "1  Williamsbridge                     57027.125\n",
       "2     Throgs Neck                     61644.875\n",
       "3  Pelham Parkway                     54912.375\n",
       "4      Morrisania                     25512.625"
      ]
     },
     "execution_count": 400,
     "metadata": {},
     "output_type": "execute_result"
    }
   ],
   "source": [
    "df.drop(columns=['Date'], inplace=True)\n",
    "df.drop(columns=['Yearly_income'], inplace=True)\n",
    "df.drop(columns=['Household Type'], inplace=True)\n",
    "df = df.drop_duplicates(subset=['Location'], keep='first')\n",
    "\n",
    "df.head()\n"
   ]
  },
  {
   "cell_type": "code",
   "execution_count": 401,
   "metadata": {},
   "outputs": [
    {
     "data": {
      "text/plain": [
       "array(['Riverdale', 'Williamsbridge', 'Throgs Neck', 'Pelham Parkway',\n",
       "       'Morrisania', 'East Tremont', 'Bedford Park', 'University Heights',\n",
       "       'Concourse/Highbridge', 'Unionport/Soundview', 'Mott Haven',\n",
       "       'Hunts Point', 'Washington Heights', 'Manhattanville',\n",
       "       'Central Harlem', 'East Harlem', 'Upper East Side',\n",
       "       'Upper West Side', 'Chelsea/Clinton', 'Midtown Business District',\n",
       "       'Murray Hill/Stuyvesant', 'Lower East Side',\n",
       "       'Battery Park/Tribeca', 'Greenwich Village', 'Tottenville',\n",
       "       'South Beach', 'St. George', 'Williamsburg/Greenpoint', 'Bushwick',\n",
       "       'Bedford Stuyvesant', 'Fort Greene/Brooklyn Hts', 'Park Slope',\n",
       "       'Crown Heights North', 'Brownsville', 'East New York', 'Canarsie',\n",
       "       'East Flatbush', 'Crown Heights South', 'Sunset Park', 'Bay Ridge',\n",
       "       'Borough Park', 'Flatbush/Midwood', 'Sheepshead Bay',\n",
       "       'Bensonhurst', 'Coney Island', 'Astoria', 'Jackson Heights',\n",
       "       'Flushing', 'Bayside', 'Queens Village', 'Fresh Meadows/Briarwood',\n",
       "       'Elmhurst/Corona', 'Rego Park/Forest Hills', 'Sunnyside/Woodside',\n",
       "       'Ridgewood/Glendale', 'Woodhaven', 'Jamaica/St. Albans',\n",
       "       'Howard Beach', 'The Rockaways', 'Bronx', 'Brooklyn', 'Manhattan',\n",
       "       'Queens', 'Staten Island', 'New York City'], dtype=object)"
      ]
     },
     "execution_count": 401,
     "metadata": {},
     "output_type": "execute_result"
    }
   ],
   "source": [
    "df['Location'].unique()"
   ]
  },
  {
   "cell_type": "code",
   "execution_count": 402,
   "metadata": {},
   "outputs": [],
   "source": [
    "name_to_boro_cd = {\n",
    "    # Manhattan (MXX)\n",
    "    'Astoria': 'Q01',\n",
    "    'Battery Park/Tribeca': 'M01',\n",
    "    'Bay Ridge': 'K10',\n",
    "    'Bayside': 'Q11',\n",
    "    'Bedford Park': 'B07',\n",
    "    'Bedford Stuyvesant': 'K03',\n",
    "    'Bensonhurst': 'K11',\n",
    "    'Borough Park': 'K12',\n",
    "    'Brownsville': 'K16',\n",
    "    'Bushwick': 'K04',\n",
    "    'Canarsie': 'K18',\n",
    "    'Central Harlem': 'M10',\n",
    "    'Chelsea/Clinton': 'M04',\n",
    "    'Concourse/Highbridge': 'B04',\n",
    "    'Coney Island': 'K13',\n",
    "    'Crown Heights North': 'K08',\n",
    "    'Crown Heights South': 'K09',\n",
    "    'East Flatbush': 'K17',\n",
    "    'East Harlem': 'M11',\n",
    "    'East New York': 'K05',\n",
    "    'East Tremont': 'B06',\n",
    "    'Elmhurst/Corona': 'Q04',\n",
    "    'Flatbush/Midwood': 'K14',\n",
    "    'Flushing': 'Q07',\n",
    "    'Fort Greene/Brooklyn Hts': 'K02',\n",
    "    'Fresh Meadows/Briarwood': 'Q08',\n",
    "    'Greenwich Village': 'M02',\n",
    "    'Howard Beach': 'Q10',\n",
    "    'Hunts Point': 'B02',\n",
    "    'Jackson Heights': 'Q03',\n",
    "    'Jamaica/St. Albans': 'Q12',\n",
    "    'Lower East Side': 'M03',\n",
    "    'Manhattanville': 'M09',\n",
    "    'Midtown Business District': 'M05',\n",
    "    'Morrisania': 'B03',\n",
    "    'Mott Haven': 'B01',\n",
    "    'Murray Hill/Stuyvesant': 'M06',\n",
    "    'Park Slope': 'K06',\n",
    "    'Pelham Parkway': 'B11',\n",
    "    'Queens Village': 'Q13',\n",
    "    'Rego Park/Forest Hills': 'Q06',\n",
    "    'Ridgewood/Glendale': 'Q05',\n",
    "    'Riverdale': 'B08',\n",
    "    'Sheepshead Bay': 'K15',\n",
    "    'South Beach': 'S02',\n",
    "    'St. George': 'S01',\n",
    "    'Sunnyside/Woodside': 'Q02',\n",
    "    'Sunset Park': 'K07',\n",
    "    'The Rockaways': 'Q14',\n",
    "    'Throgs Neck': 'B10',\n",
    "    'Tottenville': 'S03',\n",
    "    'Unionport/Soundview': 'B09',\n",
    "    'University Heights': 'B05',\n",
    "    'Upper East Side': 'M08',\n",
    "    'Upper West Side': 'M07',\n",
    "    'Washington Heights': 'M12',\n",
    "    'Williamsbridge': 'B12',\n",
    "    'Williamsburg/Greenpoint': 'K01',\n",
    "    'Woodhaven': 'Q09',\n",
    "    'Bronx':'Bronx', \n",
    "    'Brooklyn': 'Brooklyn',\n",
    "    'Manhattan':'Manhattan',\n",
    "    'Queens':'Queens',\n",
    "    'Staten Island': 'Staten Island',\n",
    "    'New York City':'New York City'\n",
    "}\n"
   ]
  },
  {
   "cell_type": "code",
   "execution_count": 403,
   "metadata": {},
   "outputs": [],
   "source": [
    "df['Location'] = df['Location'].map(name_to_boro_cd)\n"
   ]
  },
  {
   "cell_type": "code",
   "execution_count": 404,
   "metadata": {},
   "outputs": [
    {
     "name": "stdout",
     "output_type": "stream",
     "text": [
      "         Location\n",
      "0             208\n",
      "1             212\n",
      "2             210\n",
      "3             211\n",
      "4             203\n",
      "..            ...\n",
      "60       2rooklyn\n",
      "61      1anhattan\n",
      "62         4ueens\n",
      "63  5taten Island\n",
      "64  New York City\n",
      "\n",
      "[65 rows x 1 columns]\n"
     ]
    }
   ],
   "source": [
    "\n",
    "borough_letter_to_number = {\n",
    "    'B': '2',  # Bronx\n",
    "    'M': '1',  # Manhattan\n",
    "    'K': '3',  # Brooklyn\n",
    "    'Q': '4',  # Queens\n",
    "    'S': '5'   # Staten Island\n",
    "}\n",
    "\n",
    "\n",
    "def convert_location(location):\n",
    "    if location[0] in borough_letter_to_number:\n",
    "        borough_letter = location[0]  # First character\n",
    "        district_number = location[1:]  # Remaining characters (e.g., 08, 12)\n",
    "        # Convert to numeric boro_cd\n",
    "        return borough_letter_to_number[borough_letter] + district_number\n",
    "    else:\n",
    "        return location\n",
    "\n",
    "\n",
    "df['Location'] = df['Location'].apply(convert_location)\n",
    "print(df[['Location']])\n"
   ]
  },
  {
   "cell_type": "code",
   "execution_count": 405,
   "metadata": {},
   "outputs": [
    {
     "data": {
      "text/plain": [
       "array(['208', '212', '210', '211', '203', '206', '207', '205', '204',\n",
       "       '209', '201', '202', '112', '109', '110', '111', '108', '107',\n",
       "       '104', '105', '106', '103', '101', '102', '503', '502', '501',\n",
       "       '301', '304', '303', '302', '306', '308', '316', '305', '318',\n",
       "       '317', '309', '307', '310', '312', '314', '315', '311', '313',\n",
       "       '401', '403', '407', '411', '413', '408', '404', '406', '402',\n",
       "       '405', '409', '412', '410', '414', '2ronx', '2rooklyn',\n",
       "       '1anhattan', '4ueens', '5taten Island', 'New York City'],\n",
       "      dtype=object)"
      ]
     },
     "execution_count": 405,
     "metadata": {},
     "output_type": "execute_result"
    }
   ],
   "source": [
    "df['Location'].unique()"
   ]
  },
  {
   "cell_type": "code",
   "execution_count": 406,
   "metadata": {},
   "outputs": [
    {
     "name": "stdout",
     "output_type": "stream",
     "text": [
      "['208' '212' '210' '211' '203' '206' '207' '205' '204' '209' '201' '202'\n",
      " '112' '109' '110' '111' '108' '107' '104' '105' '106' '103' '101' '102'\n",
      " '503' '502' '501' '301' '304' '303' '302' '306' '308' '316' '305' '318'\n",
      " '317' '309' '307' '310' '312' '314' '315' '311' '313' '401' '403' '407'\n",
      " '411' '413' '408' '404' '406' '402' '405' '409' '412' '410' '414' 'Bronx'\n",
      " 'Brooklyn' 'Manhattan' 'Queens' 'Staten Island' 'New York City']\n"
     ]
    }
   ],
   "source": [
    "# Mapping for correcting borough names\n",
    "borough_name_fix = {\n",
    "    '2ronx': 'Bronx',\n",
    "    '2rooklyn': 'Brooklyn',\n",
    "    '1anhattan': 'Manhattan',\n",
    "    '4ueens': 'Queens',\n",
    "    '5taten Island': 'Staten Island'\n",
    "}\n",
    "\n",
    "# Apply the mapping to fix borough names\n",
    "df['Location'] = df['Location'].replace(borough_name_fix)\n",
    "\n",
    "# Display the updated DataFrame\n",
    "print(df['Location'].unique())  # Check the unique values after correction\n"
   ]
  },
  {
   "cell_type": "code",
   "execution_count": 407,
   "metadata": {},
   "outputs": [
    {
     "data": {
      "text/html": [
       "<div>\n",
       "<style scoped>\n",
       "    .dataframe tbody tr th:only-of-type {\n",
       "        vertical-align: middle;\n",
       "    }\n",
       "\n",
       "    .dataframe tbody tr th {\n",
       "        vertical-align: top;\n",
       "    }\n",
       "\n",
       "    .dataframe thead th {\n",
       "        text-align: right;\n",
       "    }\n",
       "</style>\n",
       "<table border=\"1\" class=\"dataframe\">\n",
       "  <thead>\n",
       "    <tr style=\"text-align: right;\">\n",
       "      <th></th>\n",
       "      <th>boro_cd</th>\n",
       "      <th>Avg_Yearly_Income_Above_2012</th>\n",
       "    </tr>\n",
       "  </thead>\n",
       "  <tbody>\n",
       "    <tr>\n",
       "      <th>0</th>\n",
       "      <td>208</td>\n",
       "      <td>63444.125</td>\n",
       "    </tr>\n",
       "    <tr>\n",
       "      <th>1</th>\n",
       "      <td>212</td>\n",
       "      <td>57027.125</td>\n",
       "    </tr>\n",
       "    <tr>\n",
       "      <th>2</th>\n",
       "      <td>210</td>\n",
       "      <td>61644.875</td>\n",
       "    </tr>\n",
       "    <tr>\n",
       "      <th>3</th>\n",
       "      <td>211</td>\n",
       "      <td>54912.375</td>\n",
       "    </tr>\n",
       "    <tr>\n",
       "      <th>4</th>\n",
       "      <td>203</td>\n",
       "      <td>25512.625</td>\n",
       "    </tr>\n",
       "  </tbody>\n",
       "</table>\n",
       "</div>"
      ],
      "text/plain": [
       "  boro_cd  Avg_Yearly_Income_Above_2012\n",
       "0     208                     63444.125\n",
       "1     212                     57027.125\n",
       "2     210                     61644.875\n",
       "3     211                     54912.375\n",
       "4     203                     25512.625"
      ]
     },
     "execution_count": 407,
     "metadata": {},
     "output_type": "execute_result"
    }
   ],
   "source": [
    "df.rename(columns={\"Location\": \"boro_cd\"}, inplace=True)\n",
    "df.head()"
   ]
  },
  {
   "cell_type": "code",
   "execution_count": 408,
   "metadata": {},
   "outputs": [],
   "source": [
    "\n",
    "df.to_csv('../exports/Income.csv', index=False)\n"
   ]
  }
 ],
 "metadata": {
  "kernelspec": {
   "display_name": "base",
   "language": "python",
   "name": "python3"
  },
  "language_info": {
   "codemirror_mode": {
    "name": "ipython",
    "version": 3
   },
   "file_extension": ".py",
   "mimetype": "text/x-python",
   "name": "python",
   "nbconvert_exporter": "python",
   "pygments_lexer": "ipython3",
   "version": "3.9.13"
  }
 },
 "nbformat": 4,
 "nbformat_minor": 2
}
